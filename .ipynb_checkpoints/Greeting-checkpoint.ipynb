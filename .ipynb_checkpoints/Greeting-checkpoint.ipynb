{
 "cells": [
  {
   "cell_type": "code",
   "execution_count": 3,
   "metadata": {},
   "outputs": [
    {
     "name": "stdin",
     "output_type": "stream",
     "text": [
      "Hello! What is your name? Jack\n"
     ]
    },
    {
     "name": "stdout",
     "output_type": "stream",
     "text": [
      "Hi Jack\n"
     ]
    },
    {
     "name": "stdin",
     "output_type": "stream",
     "text": [
      "Who's your partner for this project? Brian\n"
     ]
    },
    {
     "name": "stdout",
     "output_type": "stream",
     "text": [
      "Jack and Brian's project is fire\n"
     ]
    }
   ],
   "source": [
    "name = input(\"Hello! What is your name?\")\n",
    "print(\"Hi\",name)\n",
    "pname = input(\"Who's your partner for this project?\")\n",
    "print(name,\"and\",pname + \"'s project is fire\")"
   ]
  },
  {
   "cell_type": "code",
   "execution_count": null,
   "metadata": {},
   "outputs": [],
   "source": []
  }
 ],
 "metadata": {
  "kernelspec": {
   "display_name": "Python 3.7",
   "language": "python",
   "name": "python3"
  },
  "language_info": {
   "codemirror_mode": {
    "name": "ipython",
    "version": 3
   },
   "file_extension": ".py",
   "mimetype": "text/x-python",
   "name": "python",
   "nbconvert_exporter": "python",
   "pygments_lexer": "ipython3",
   "version": "3.7.0"
  }
 },
 "nbformat": 4,
 "nbformat_minor": 2
}
